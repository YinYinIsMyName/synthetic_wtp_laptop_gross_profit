{
 "cells": [
  {
   "cell_type": "markdown",
   "id": "27fac0ce-3364-4398-a90d-daaa9828cbe4",
   "metadata": {},
   "source": [
    "## Aim of this project is to select the top 2 features that give the highest gross profit "
   ]
  },
  {
   "cell_type": "code",
   "execution_count": null,
   "id": "d6741326-022e-4af0-992d-a68adad63385",
   "metadata": {},
   "outputs": [],
   "source": [
    "import pandas as pd\n",
    "import numpy as np\n",
    "import seaborn as sns\n",
    "import matplotlib.pyplot as plt\n",
    "from sklearn.linear_model import LinearRegression\n",
    "from sklearn.model_selection import train_test_split\n",
    "from sklearn.metrics import mean_squared_error\n",
    "from sklearn.ensemble import RandomForestRegressor"
   ]
  },
  {
   "cell_type": "code",
   "execution_count": 2,
   "id": "955dd152-942f-46e2-83b4-6f0a23303a70",
   "metadata": {},
   "outputs": [],
   "source": [
    "## Load the dataset"
   ]
  },
  {
   "cell_type": "code",
   "execution_count": 5,
   "id": "79a73b27-ef1c-4ff4-abb6-c2fafac4fc73",
   "metadata": {},
   "outputs": [],
   "source": [
    "synthetic_wtp_laptop_df = pd.read_csv(\"../Documents/python_for_data_science/Synthetic_Laptop_sale/synthetic_wtp_laptop_data.csv\")"
   ]
  },
  {
   "cell_type": "code",
   "execution_count": 3,
   "id": "24b4007b-c532-43ac-9362-c92fad4167ef",
   "metadata": {},
   "outputs": [],
   "source": [
    "## Data Precprocessing and Cleaning"
   ]
  },
  {
   "cell_type": "code",
   "execution_count": 6,
   "id": "493f21a0-5a74-4b8c-92ed-722a5988d746",
   "metadata": {},
   "outputs": [],
   "source": [
    "synthetic_wtp_laptop_df = synthetic_wtp_laptop_df.drop_duplicates()"
   ]
  },
  {
   "cell_type": "code",
   "execution_count": 7,
   "id": "cd9f79db-90f3-426a-9e02-a47ee0766431",
   "metadata": {},
   "outputs": [
    {
     "data": {
      "text/html": [
       "<div>\n",
       "<style scoped>\n",
       "    .dataframe tbody tr th:only-of-type {\n",
       "        vertical-align: middle;\n",
       "    }\n",
       "\n",
       "    .dataframe tbody tr th {\n",
       "        vertical-align: top;\n",
       "    }\n",
       "\n",
       "    .dataframe thead th {\n",
       "        text-align: right;\n",
       "    }\n",
       "</style>\n",
       "<table border=\"1\" class=\"dataframe\">\n",
       "  <thead>\n",
       "    <tr style=\"text-align: right;\">\n",
       "      <th></th>\n",
       "      <th>Memory</th>\n",
       "      <th>Storage</th>\n",
       "      <th>CPU_class</th>\n",
       "      <th>Screen_size</th>\n",
       "      <th>year</th>\n",
       "      <th>price</th>\n",
       "    </tr>\n",
       "  </thead>\n",
       "  <tbody>\n",
       "    <tr>\n",
       "      <th>0</th>\n",
       "      <td>8</td>\n",
       "      <td>1024</td>\n",
       "      <td>3</td>\n",
       "      <td>16.0</td>\n",
       "      <td>2025</td>\n",
       "      <td>162021</td>\n",
       "    </tr>\n",
       "    <tr>\n",
       "      <th>1</th>\n",
       "      <td>32</td>\n",
       "      <td>1024</td>\n",
       "      <td>0</td>\n",
       "      <td>16.0</td>\n",
       "      <td>2024</td>\n",
       "      <td>112214</td>\n",
       "    </tr>\n",
       "    <tr>\n",
       "      <th>2</th>\n",
       "      <td>16</td>\n",
       "      <td>512</td>\n",
       "      <td>1</td>\n",
       "      <td>16.0</td>\n",
       "      <td>2025</td>\n",
       "      <td>118354</td>\n",
       "    </tr>\n",
       "    <tr>\n",
       "      <th>3</th>\n",
       "      <td>16</td>\n",
       "      <td>1024</td>\n",
       "      <td>1</td>\n",
       "      <td>16.0</td>\n",
       "      <td>2025</td>\n",
       "      <td>123383</td>\n",
       "    </tr>\n",
       "    <tr>\n",
       "      <th>4</th>\n",
       "      <td>16</td>\n",
       "      <td>256</td>\n",
       "      <td>3</td>\n",
       "      <td>16.0</td>\n",
       "      <td>2024</td>\n",
       "      <td>162968</td>\n",
       "    </tr>\n",
       "  </tbody>\n",
       "</table>\n",
       "</div>"
      ],
      "text/plain": [
       "   Memory  Storage  CPU_class  Screen_size  year   price\n",
       "0       8     1024          3         16.0  2025  162021\n",
       "1      32     1024          0         16.0  2024  112214\n",
       "2      16      512          1         16.0  2025  118354\n",
       "3      16     1024          1         16.0  2025  123383\n",
       "4      16      256          3         16.0  2024  162968"
      ]
     },
     "execution_count": 7,
     "metadata": {},
     "output_type": "execute_result"
    }
   ],
   "source": [
    "synthetic_wtp_laptop_df.head()"
   ]
  },
  {
   "cell_type": "code",
   "execution_count": 8,
   "id": "bc6af53d-4d5f-4ce6-a3f5-0efce091f45c",
   "metadata": {},
   "outputs": [
    {
     "name": "stdout",
     "output_type": "stream",
     "text": [
      "<class 'pandas.core.frame.DataFrame'>\n",
      "RangeIndex: 1000 entries, 0 to 999\n",
      "Data columns (total 6 columns):\n",
      " #   Column       Non-Null Count  Dtype  \n",
      "---  ------       --------------  -----  \n",
      " 0   Memory       1000 non-null   int64  \n",
      " 1   Storage      1000 non-null   int64  \n",
      " 2   CPU_class    1000 non-null   int64  \n",
      " 3   Screen_size  1000 non-null   float64\n",
      " 4   year         1000 non-null   int64  \n",
      " 5   price        1000 non-null   int64  \n",
      "dtypes: float64(1), int64(5)\n",
      "memory usage: 47.0 KB\n"
     ]
    }
   ],
   "source": [
    "synthetic_wtp_laptop_df.info()"
   ]
  },
  {
   "cell_type": "code",
   "execution_count": 9,
   "id": "cec97490-9a9f-4412-a44c-a057cf961007",
   "metadata": {},
   "outputs": [
    {
     "data": {
      "text/html": [
       "<div>\n",
       "<style scoped>\n",
       "    .dataframe tbody tr th:only-of-type {\n",
       "        vertical-align: middle;\n",
       "    }\n",
       "\n",
       "    .dataframe tbody tr th {\n",
       "        vertical-align: top;\n",
       "    }\n",
       "\n",
       "    .dataframe thead th {\n",
       "        text-align: right;\n",
       "    }\n",
       "</style>\n",
       "<table border=\"1\" class=\"dataframe\">\n",
       "  <thead>\n",
       "    <tr style=\"text-align: right;\">\n",
       "      <th></th>\n",
       "      <th>Memory</th>\n",
       "      <th>Storage</th>\n",
       "      <th>CPU_class</th>\n",
       "      <th>Screen_size</th>\n",
       "      <th>year</th>\n",
       "      <th>price</th>\n",
       "    </tr>\n",
       "  </thead>\n",
       "  <tbody>\n",
       "    <tr>\n",
       "      <th>count</th>\n",
       "      <td>1000.000000</td>\n",
       "      <td>1000.000000</td>\n",
       "      <td>1000.000000</td>\n",
       "      <td>1000.000000</td>\n",
       "      <td>1000.000000</td>\n",
       "      <td>1000.000000</td>\n",
       "    </tr>\n",
       "    <tr>\n",
       "      <th>mean</th>\n",
       "      <td>18.704000</td>\n",
       "      <td>594.688000</td>\n",
       "      <td>1.502000</td>\n",
       "      <td>15.203200</td>\n",
       "      <td>2024.524000</td>\n",
       "      <td>130315.719000</td>\n",
       "    </tr>\n",
       "    <tr>\n",
       "      <th>std</th>\n",
       "      <td>10.009024</td>\n",
       "      <td>319.767594</td>\n",
       "      <td>1.123948</td>\n",
       "      <td>0.864278</td>\n",
       "      <td>0.499674</td>\n",
       "      <td>32338.091721</td>\n",
       "    </tr>\n",
       "    <tr>\n",
       "      <th>min</th>\n",
       "      <td>8.000000</td>\n",
       "      <td>256.000000</td>\n",
       "      <td>0.000000</td>\n",
       "      <td>14.000000</td>\n",
       "      <td>2024.000000</td>\n",
       "      <td>69302.000000</td>\n",
       "    </tr>\n",
       "    <tr>\n",
       "      <th>25%</th>\n",
       "      <td>8.000000</td>\n",
       "      <td>256.000000</td>\n",
       "      <td>1.000000</td>\n",
       "      <td>14.000000</td>\n",
       "      <td>2024.000000</td>\n",
       "      <td>105048.000000</td>\n",
       "    </tr>\n",
       "    <tr>\n",
       "      <th>50%</th>\n",
       "      <td>16.000000</td>\n",
       "      <td>512.000000</td>\n",
       "      <td>1.000000</td>\n",
       "      <td>15.600000</td>\n",
       "      <td>2025.000000</td>\n",
       "      <td>130536.000000</td>\n",
       "    </tr>\n",
       "    <tr>\n",
       "      <th>75%</th>\n",
       "      <td>32.000000</td>\n",
       "      <td>1024.000000</td>\n",
       "      <td>3.000000</td>\n",
       "      <td>16.000000</td>\n",
       "      <td>2025.000000</td>\n",
       "      <td>158933.750000</td>\n",
       "    </tr>\n",
       "    <tr>\n",
       "      <th>max</th>\n",
       "      <td>32.000000</td>\n",
       "      <td>1024.000000</td>\n",
       "      <td>3.000000</td>\n",
       "      <td>16.000000</td>\n",
       "      <td>2025.000000</td>\n",
       "      <td>195617.000000</td>\n",
       "    </tr>\n",
       "  </tbody>\n",
       "</table>\n",
       "</div>"
      ],
      "text/plain": [
       "            Memory      Storage    CPU_class  Screen_size         year  \\\n",
       "count  1000.000000  1000.000000  1000.000000  1000.000000  1000.000000   \n",
       "mean     18.704000   594.688000     1.502000    15.203200  2024.524000   \n",
       "std      10.009024   319.767594     1.123948     0.864278     0.499674   \n",
       "min       8.000000   256.000000     0.000000    14.000000  2024.000000   \n",
       "25%       8.000000   256.000000     1.000000    14.000000  2024.000000   \n",
       "50%      16.000000   512.000000     1.000000    15.600000  2025.000000   \n",
       "75%      32.000000  1024.000000     3.000000    16.000000  2025.000000   \n",
       "max      32.000000  1024.000000     3.000000    16.000000  2025.000000   \n",
       "\n",
       "               price  \n",
       "count    1000.000000  \n",
       "mean   130315.719000  \n",
       "std     32338.091721  \n",
       "min     69302.000000  \n",
       "25%    105048.000000  \n",
       "50%    130536.000000  \n",
       "75%    158933.750000  \n",
       "max    195617.000000  "
      ]
     },
     "execution_count": 9,
     "metadata": {},
     "output_type": "execute_result"
    }
   ],
   "source": [
    "synthetic_wtp_laptop_df.describe()"
   ]
  },
  {
   "cell_type": "markdown",
   "id": "e896ead6-6186-4a4d-a42a-0f3207851592",
   "metadata": {},
   "source": [
    "# Insight of Price Column\n",
    "From the table , the price seems balanced with some slght right skew.In terms of relation , the higher price may relate to memory , storage and CPU class.While The budget-saving models are around the lower price limit (69k) , premium segment possibly price closer to the upper range."
   ]
  },
  {
   "cell_type": "code",
   "execution_count": 10,
   "id": "2f5f9526-c513-4921-b910-25a54f17ec63",
   "metadata": {},
   "outputs": [
    {
     "data": {
      "text/html": [
       "<div>\n",
       "<style scoped>\n",
       "    .dataframe tbody tr th:only-of-type {\n",
       "        vertical-align: middle;\n",
       "    }\n",
       "\n",
       "    .dataframe tbody tr th {\n",
       "        vertical-align: top;\n",
       "    }\n",
       "\n",
       "    .dataframe thead th {\n",
       "        text-align: right;\n",
       "    }\n",
       "</style>\n",
       "<table border=\"1\" class=\"dataframe\">\n",
       "  <thead>\n",
       "    <tr style=\"text-align: right;\">\n",
       "      <th></th>\n",
       "      <th>Memory</th>\n",
       "      <th>Storage</th>\n",
       "      <th>CPU_class</th>\n",
       "      <th>Screen_size</th>\n",
       "      <th>year</th>\n",
       "      <th>price</th>\n",
       "    </tr>\n",
       "  </thead>\n",
       "  <tbody>\n",
       "    <tr>\n",
       "      <th>0</th>\n",
       "      <td>8</td>\n",
       "      <td>1024</td>\n",
       "      <td>3</td>\n",
       "      <td>16.0</td>\n",
       "      <td>2025</td>\n",
       "      <td>162021</td>\n",
       "    </tr>\n",
       "    <tr>\n",
       "      <th>1</th>\n",
       "      <td>32</td>\n",
       "      <td>1024</td>\n",
       "      <td>0</td>\n",
       "      <td>16.0</td>\n",
       "      <td>2024</td>\n",
       "      <td>112214</td>\n",
       "    </tr>\n",
       "    <tr>\n",
       "      <th>2</th>\n",
       "      <td>16</td>\n",
       "      <td>512</td>\n",
       "      <td>1</td>\n",
       "      <td>16.0</td>\n",
       "      <td>2025</td>\n",
       "      <td>118354</td>\n",
       "    </tr>\n",
       "    <tr>\n",
       "      <th>3</th>\n",
       "      <td>16</td>\n",
       "      <td>1024</td>\n",
       "      <td>1</td>\n",
       "      <td>16.0</td>\n",
       "      <td>2025</td>\n",
       "      <td>123383</td>\n",
       "    </tr>\n",
       "    <tr>\n",
       "      <th>4</th>\n",
       "      <td>16</td>\n",
       "      <td>256</td>\n",
       "      <td>3</td>\n",
       "      <td>16.0</td>\n",
       "      <td>2024</td>\n",
       "      <td>162968</td>\n",
       "    </tr>\n",
       "    <tr>\n",
       "      <th>...</th>\n",
       "      <td>...</td>\n",
       "      <td>...</td>\n",
       "      <td>...</td>\n",
       "      <td>...</td>\n",
       "      <td>...</td>\n",
       "      <td>...</td>\n",
       "    </tr>\n",
       "    <tr>\n",
       "      <th>995</th>\n",
       "      <td>16</td>\n",
       "      <td>256</td>\n",
       "      <td>2</td>\n",
       "      <td>15.6</td>\n",
       "      <td>2025</td>\n",
       "      <td>140531</td>\n",
       "    </tr>\n",
       "    <tr>\n",
       "      <th>996</th>\n",
       "      <td>16</td>\n",
       "      <td>512</td>\n",
       "      <td>1</td>\n",
       "      <td>14.0</td>\n",
       "      <td>2024</td>\n",
       "      <td>111736</td>\n",
       "    </tr>\n",
       "    <tr>\n",
       "      <th>997</th>\n",
       "      <td>16</td>\n",
       "      <td>1024</td>\n",
       "      <td>1</td>\n",
       "      <td>16.0</td>\n",
       "      <td>2024</td>\n",
       "      <td>121816</td>\n",
       "    </tr>\n",
       "    <tr>\n",
       "      <th>998</th>\n",
       "      <td>32</td>\n",
       "      <td>256</td>\n",
       "      <td>1</td>\n",
       "      <td>16.0</td>\n",
       "      <td>2024</td>\n",
       "      <td>127886</td>\n",
       "    </tr>\n",
       "    <tr>\n",
       "      <th>999</th>\n",
       "      <td>16</td>\n",
       "      <td>256</td>\n",
       "      <td>2</td>\n",
       "      <td>15.6</td>\n",
       "      <td>2025</td>\n",
       "      <td>140834</td>\n",
       "    </tr>\n",
       "  </tbody>\n",
       "</table>\n",
       "<p>1000 rows × 6 columns</p>\n",
       "</div>"
      ],
      "text/plain": [
       "     Memory  Storage  CPU_class  Screen_size  year   price\n",
       "0         8     1024          3         16.0  2025  162021\n",
       "1        32     1024          0         16.0  2024  112214\n",
       "2        16      512          1         16.0  2025  118354\n",
       "3        16     1024          1         16.0  2025  123383\n",
       "4        16      256          3         16.0  2024  162968\n",
       "..      ...      ...        ...          ...   ...     ...\n",
       "995      16      256          2         15.6  2025  140531\n",
       "996      16      512          1         14.0  2024  111736\n",
       "997      16     1024          1         16.0  2024  121816\n",
       "998      32      256          1         16.0  2024  127886\n",
       "999      16      256          2         15.6  2025  140834\n",
       "\n",
       "[1000 rows x 6 columns]"
      ]
     },
     "execution_count": 10,
     "metadata": {},
     "output_type": "execute_result"
    }
   ],
   "source": [
    "synthetic_wtp_laptop_df.dropna()"
   ]
  },
  {
   "cell_type": "code",
   "execution_count": 11,
   "id": "109b3484-5d46-4a8b-a5d8-36f414fa860e",
   "metadata": {},
   "outputs": [
    {
     "data": {
      "text/plain": [
       "Memory         0\n",
       "Storage        0\n",
       "CPU_class      0\n",
       "Screen_size    0\n",
       "year           0\n",
       "price          0\n",
       "dtype: int64"
      ]
     },
     "execution_count": 11,
     "metadata": {},
     "output_type": "execute_result"
    }
   ],
   "source": [
    "synthetic_wtp_laptop_df.isnull().sum()"
   ]
  },
  {
   "cell_type": "code",
   "execution_count": 12,
   "id": "89f448bd-3294-4313-89e0-124ded5537a3",
   "metadata": {},
   "outputs": [
    {
     "data": {
      "text/plain": [
       "<bound method NDFrame.astype of 0      162021\n",
       "1      112214\n",
       "2      118354\n",
       "3      123383\n",
       "4      162968\n",
       "        ...  \n",
       "995    140531\n",
       "996    111736\n",
       "997    121816\n",
       "998    127886\n",
       "999    140834\n",
       "Name: price, Length: 1000, dtype: int64>"
      ]
     },
     "execution_count": 12,
     "metadata": {},
     "output_type": "execute_result"
    }
   ],
   "source": [
    "synthetic_wtp_laptop_df[\"price\"].astype"
   ]
  },
  {
   "cell_type": "code",
   "execution_count": 13,
   "id": "0af67975-5ec5-47aa-9f2a-a5f3685b3d1a",
   "metadata": {},
   "outputs": [],
   "source": [
    "# Define base specifications\n",
    "base_specs = {\n",
    "    \"Memory\": 16,\n",
    "    \"Storage\": 512,\n",
    "    \"CPU_class\": 1,\n",
    "    \"Screen_size\": 14.0\n",
    "}\n",
    "\n",
    "for feature, base_value in base_specs.items():\n",
    "    upgrade_cols = f\"upgrade_{feature.lower()}\"\n",
    "    synthetic_wtp_laptop_df[upgrade_cols] = (synthetic_wtp_laptop_df[feature]>base_value).astype(int)"
   ]
  },
  {
   "cell_type": "code",
   "execution_count": 14,
   "id": "7968fd7c-1236-439b-90b0-db258f32bee2",
   "metadata": {},
   "outputs": [
    {
     "data": {
      "text/html": [
       "<div>\n",
       "<style scoped>\n",
       "    .dataframe tbody tr th:only-of-type {\n",
       "        vertical-align: middle;\n",
       "    }\n",
       "\n",
       "    .dataframe tbody tr th {\n",
       "        vertical-align: top;\n",
       "    }\n",
       "\n",
       "    .dataframe thead th {\n",
       "        text-align: right;\n",
       "    }\n",
       "</style>\n",
       "<table border=\"1\" class=\"dataframe\">\n",
       "  <thead>\n",
       "    <tr style=\"text-align: right;\">\n",
       "      <th></th>\n",
       "      <th>Memory</th>\n",
       "      <th>Storage</th>\n",
       "      <th>CPU_class</th>\n",
       "      <th>Screen_size</th>\n",
       "      <th>year</th>\n",
       "      <th>price</th>\n",
       "      <th>upgrade_memory</th>\n",
       "      <th>upgrade_storage</th>\n",
       "      <th>upgrade_cpu_class</th>\n",
       "      <th>upgrade_screen_size</th>\n",
       "    </tr>\n",
       "  </thead>\n",
       "  <tbody>\n",
       "    <tr>\n",
       "      <th>0</th>\n",
       "      <td>8</td>\n",
       "      <td>1024</td>\n",
       "      <td>3</td>\n",
       "      <td>16.0</td>\n",
       "      <td>2025</td>\n",
       "      <td>162021</td>\n",
       "      <td>0</td>\n",
       "      <td>1</td>\n",
       "      <td>1</td>\n",
       "      <td>1</td>\n",
       "    </tr>\n",
       "    <tr>\n",
       "      <th>1</th>\n",
       "      <td>32</td>\n",
       "      <td>1024</td>\n",
       "      <td>0</td>\n",
       "      <td>16.0</td>\n",
       "      <td>2024</td>\n",
       "      <td>112214</td>\n",
       "      <td>1</td>\n",
       "      <td>1</td>\n",
       "      <td>0</td>\n",
       "      <td>1</td>\n",
       "    </tr>\n",
       "    <tr>\n",
       "      <th>2</th>\n",
       "      <td>16</td>\n",
       "      <td>512</td>\n",
       "      <td>1</td>\n",
       "      <td>16.0</td>\n",
       "      <td>2025</td>\n",
       "      <td>118354</td>\n",
       "      <td>0</td>\n",
       "      <td>0</td>\n",
       "      <td>0</td>\n",
       "      <td>1</td>\n",
       "    </tr>\n",
       "    <tr>\n",
       "      <th>3</th>\n",
       "      <td>16</td>\n",
       "      <td>1024</td>\n",
       "      <td>1</td>\n",
       "      <td>16.0</td>\n",
       "      <td>2025</td>\n",
       "      <td>123383</td>\n",
       "      <td>0</td>\n",
       "      <td>1</td>\n",
       "      <td>0</td>\n",
       "      <td>1</td>\n",
       "    </tr>\n",
       "    <tr>\n",
       "      <th>4</th>\n",
       "      <td>16</td>\n",
       "      <td>256</td>\n",
       "      <td>3</td>\n",
       "      <td>16.0</td>\n",
       "      <td>2024</td>\n",
       "      <td>162968</td>\n",
       "      <td>0</td>\n",
       "      <td>0</td>\n",
       "      <td>1</td>\n",
       "      <td>1</td>\n",
       "    </tr>\n",
       "  </tbody>\n",
       "</table>\n",
       "</div>"
      ],
      "text/plain": [
       "   Memory  Storage  CPU_class  Screen_size  year   price  upgrade_memory  \\\n",
       "0       8     1024          3         16.0  2025  162021               0   \n",
       "1      32     1024          0         16.0  2024  112214               1   \n",
       "2      16      512          1         16.0  2025  118354               0   \n",
       "3      16     1024          1         16.0  2025  123383               0   \n",
       "4      16      256          3         16.0  2024  162968               0   \n",
       "\n",
       "   upgrade_storage  upgrade_cpu_class  upgrade_screen_size  \n",
       "0                1                  1                    1  \n",
       "1                1                  0                    1  \n",
       "2                0                  0                    1  \n",
       "3                1                  0                    1  \n",
       "4                0                  1                    1  "
      ]
     },
     "execution_count": 14,
     "metadata": {},
     "output_type": "execute_result"
    }
   ],
   "source": [
    "synthetic_wtp_laptop_df.head()"
   ]
  },
  {
   "cell_type": "code",
   "execution_count": 15,
   "id": "c5b0b765-bf05-4ef2-98d2-809d1972c0a6",
   "metadata": {},
   "outputs": [],
   "source": [
    "upgrade_cost = {\n",
    "    \"Memory\": 7000,\n",
    "    \"Storage\": 5000,\n",
    "    \"CPU_class\": 15000,\n",
    "    \"Screen_size\": 3000\n",
    "}\n",
    "\n",
    "synthetic_wtp_laptop_df[\"upgrade_costs\"]  = sum(synthetic_wtp_laptop_df[f\"upgrade_{feature.lower()}\"]*cost\n",
    "                                               for feature,cost in upgrade_cost.items())\n",
    "\n",
    "synthetic_wtp_laptop_df[\"gross_profit\"] = synthetic_wtp_laptop_df[\"price\"]-synthetic_wtp_laptop_df[\"upgrade_costs\"]"
   ]
  },
  {
   "cell_type": "code",
   "execution_count": 16,
   "id": "d2421941-f4a7-4de6-b85a-867e5365f0a5",
   "metadata": {},
   "outputs": [],
   "source": [
    "upgrade_df = synthetic_wtp_laptop_df.loc[:,'upgrade_memory':'gross_profit']"
   ]
  },
  {
   "cell_type": "code",
   "execution_count": 17,
   "id": "76948de8-7e4c-4bfb-afcc-eb5b28e57748",
   "metadata": {},
   "outputs": [],
   "source": [
    "upgarded_cols = [features for features in upgrade_df.columns.to_list()][:-2]"
   ]
  },
  {
   "cell_type": "code",
   "execution_count": 6,
   "id": "b6522ce6-d28f-4e6d-ae76-3a6768190a87",
   "metadata": {},
   "outputs": [],
   "source": [
    "## Choosing the model"
   ]
  },
  {
   "cell_type": "code",
   "execution_count": 18,
   "id": "c14da40f-f96c-4db5-a7ce-18e3bff3cf5f",
   "metadata": {},
   "outputs": [
    {
     "name": "stdout",
     "output_type": "stream",
     "text": [
      "upgrade_cpu_class      38685.982643\n",
      "upgrade_memory         13976.170860\n",
      "upgrade_storage         3216.062612\n",
      "upgrade_screen_size     -165.516080\n",
      "dtype: float64\n"
     ]
    }
   ],
   "source": [
    "# Features = Upgrades, Target = Gross Profit\n",
    "X = upgrade_df[upgarded_cols]\n",
    "y = upgrade_df[\"gross_profit\"]\n",
    "\n",
    "# Split data\n",
    "X_train, X_test, y_train, y_test = train_test_split(X, y, test_size=0.2, random_state=42)\n",
    "\n",
    "# Train model\n",
    "model = LinearRegression()\n",
    "model.fit(X_train, y_train)\n",
    "\n",
    "# Get coefficients\n",
    "coefs = pd.Series(model.coef_, index=upgarded_cols)\n",
    "print(coefs.sort_values(ascending=False))"
   ]
  },
  {
   "cell_type": "code",
   "execution_count": 19,
   "id": "72fbb525-cc7f-45b9-8629-34603230c140",
   "metadata": {},
   "outputs": [],
   "source": [
    "model = RandomForestRegressor(random_state=42)\n",
    "model.fit(X_train, y_train)\n",
    "\n",
    "# Feature importance\n",
    "importance_df = pd.DataFrame({\n",
    "    'Feature': upgarded_cols,\n",
    "    'Importance': model.feature_importances_\n",
    "}).sort_values(by='Importance', ascending=False)"
   ]
  },
  {
   "cell_type": "code",
   "execution_count": 7,
   "id": "cb4a653c-be47-41c8-86ec-09df7588d819",
   "metadata": {},
   "outputs": [],
   "source": [
    "## Evaulating the model"
   ]
  },
  {
   "cell_type": "code",
   "execution_count": 20,
   "id": "54a77c40-eb42-46d4-a7a1-645b67a91c8b",
   "metadata": {},
   "outputs": [
    {
     "name": "stdout",
     "output_type": "stream",
     "text": [
      "Mean Squared Error (MSE): 225687171.64458904\n",
      "Root Mean Squared Error (RMSE) : 15022.888259072855\n"
     ]
    }
   ],
   "source": [
    "predictions = model.predict(X_test)\n",
    "mse = mean_squared_error(y_test, predictions)\n",
    "rmse = np.sqrt(mse)\n",
    "print(f\"Mean Squared Error (MSE): {mse}\")\n",
    "print(f\"Root Mean Squared Error (RMSE) : {rmse}\")"
   ]
  },
  {
   "cell_type": "code",
   "execution_count": 9,
   "id": "e1b8444b-2cbf-407d-a06b-036356904cab",
   "metadata": {},
   "outputs": [],
   "source": [
    "## Plotting selected features"
   ]
  },
  {
   "cell_type": "code",
   "execution_count": 21,
   "id": "519c9cee-7fc3-4f91-9421-c514029e569a",
   "metadata": {},
   "outputs": [
    {
     "data": {
      "image/png": "[encoded data removed]",
      "text/plain": [
       "<Figure size 800x500 with 1 Axes>"
      ]
     },
     "metadata": {},
     "output_type": "display_data"
    }
   ],
   "source": [
    "# Plot with seaborn\n",
    "plt.figure(figsize=(8, 5))\n",
    "sns.barplot(data=importance_df, x='Importance', y='Feature', hue='Feature' , palette='Blues_r')\n",
    "plt.title(\"Upgrade Feature Importance for Gross Profit\", fontsize=14)\n",
    "plt.xlabel(\"Importance Score\", fontsize=12)\n",
    "plt.ylabel(\"Upgrade Feature\", fontsize=12)\n",
    "plt.tight_layout()\n",
    "plt.show()"
   ]
  },
  {
   "cell_type": "markdown",
   "id": "d9a6ab1c-e8a9-4476-98dc-04643c24cf88",
   "metadata": {},
   "source": [
    "The chart shows that CPU_Class_Upgrade have the highest impact on gross profit with an importance score far exceeding all other features, indicating the most influential factor for profitability. While memory contributes moderately , but with much smaller , storage and screen size have the least influence on gross profit.\n",
    "\n",
    "Overall , enhancing CPU is likely the most effective and productive strategy to maximize gross proft , followed by memory improvements , whereas storage and screen size have the lowest impact in revenue terms."
   ]
  },
  {
   "cell_type": "code",
   "execution_count": null,
   "id": "fa87cfc9-7b06-4bd9-94db-ad0fe11102fe",
   "metadata": {},
   "outputs": [],
   "source": []
  }
 ],
 "metadata": {
  "kernelspec": {
   "display_name": "python_ml",
   "language": "python",
   "name": "python_ml"
  },
  "language_info": {
   "codemirror_mode": {
    "name": "ipython",
    "version": 3
   },
   "file_extension": ".py",
   "mimetype": "text/x-python",
   "name": "python",
   "nbconvert_exporter": "python",
   "pygments_lexer": "ipython3",
   "version": "3.12.0"
  }
 },
 "nbformat": 4,
 "nbformat_minor": 5
}
